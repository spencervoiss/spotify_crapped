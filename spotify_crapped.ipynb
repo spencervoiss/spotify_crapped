{
 "cells": [
  {
   "cell_type": "code",
   "execution_count": 2,
   "id": "00b8c6dd-16bf-46ec-b6dd-2b9ce167b61a",
   "metadata": {},
   "outputs": [],
   "source": [
    "import glob\n",
    "import itables\n",
    "import spotify_crapped.spotify_crapped as spotify_crapped"
   ]
  },
  {
   "cell_type": "code",
   "execution_count": 3,
   "id": "922845ad-3696-4e27-8f06-c38fb8bfa23e",
   "metadata": {},
   "outputs": [],
   "source": [
    "lh = spotify_crapped.ListeningHistory()\n",
    "for file in list(glob.glob(\"data/listening_history/*.json\")):\n",
    "    lh.add_history_from_path(file)\n",
    "playlists = []\n",
    "for playlist in list(glob.glob(\"data/playlists_to_exclude/*.csv\")):\n",
    "    playlists.append(spotify_crapped.read_playlist_from_csv(playlist))"
   ]
  },
  {
   "cell_type": "code",
   "execution_count": 4,
   "id": "a4da889d-5054-43f0-adb2-b1681ee76e9c",
   "metadata": {},
   "outputs": [],
   "source": [
    "lh.add_filter(spotify_crapped.filter_by_not_skipped(lh.listening_history))\n",
    "lh.add_filter(spotify_crapped.filter_by_years(lh.listening_history, [2024]))\n",
    "for playlist in playlists:\n",
    "    lh.add_filter(spotify_crapped.filter_playlist_from_history(lh.listening_history, playlist))"
   ]
  },
  {
   "cell_type": "code",
   "execution_count": null,
   "id": "e0e8e35e-7cf3-48b3-b0f9-5618900d9cbe",
   "metadata": {},
   "outputs": [],
   "source": [
    "itables.show(\n",
    "    spotify_crapped.prettify_fields(lh.get_top_artists_by_playtime()), \n",
    "    \"Your Top Artists\",\n",
    "    layout={\"top1\": \"searchBuilder\"},\n",
    "    classes=\"display\"\n",
    ")"
   ]
  },
  {
   "cell_type": "code",
   "execution_count": null,
   "id": "e65ff852-bc91-4818-ad7f-e4ba7e142a8a",
   "metadata": {},
   "outputs": [],
   "source": [
    "itables.show(\n",
    "    spotify_crapped.prettify_fields(lh.get_top_songs_by_count()),\n",
    "    \"Your Top Songs\",\n",
    "    layout={\"top1\": \"searchBuilder\"},\n",
    "    classes=\"display\"\n",
    ")"
   ]
  },
  {
   "cell_type": "code",
   "execution_count": null,
   "id": "c28cb6bc-7492-48b4-8dfb-1c8e64674098",
   "metadata": {},
   "outputs": [],
   "source": [
    "itables.show(\n",
    "    spotify_crapped.prettify_fields(lh.get_top_albums_by_count()),\n",
    "    \"Your Top Albums\",\n",
    "    layout={\"top1\": \"searchBuilder\"},\n",
    "    classes=\"display\"\n",
    ")"
   ]
  }
 ],
 "metadata": {
  "kernelspec": {
   "display_name": "venv",
   "language": "python",
   "name": "python3"
  },
  "language_info": {
   "codemirror_mode": {
    "name": "ipython",
    "version": 3
   },
   "file_extension": ".py",
   "mimetype": "text/x-python",
   "name": "python",
   "nbconvert_exporter": "python",
   "pygments_lexer": "ipython3",
   "version": "3.10.12"
  }
 },
 "nbformat": 4,
 "nbformat_minor": 5
}
